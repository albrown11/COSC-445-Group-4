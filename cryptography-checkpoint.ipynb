{
 "cells": [
  {
   "cell_type": "markdown",
   "metadata": {},
   "source": [
    "The code is in the first cell, I have the code written a few times to show that the hashes do or do not match. The code is commented so it is easy to follow even if you are not familiar with python. \n",
    "\n",
    "Also at the bottom is a small database I was working on you can ignore it, but if I remember from my research hashes are supposed to be matched against other hashes not decrypted but I can b mistaken. "
   ]
  },
  {
   "cell_type": "markdown",
   "metadata": {},
   "source": [
    "Definition of the function crypto that creates a hashing algorithm\n",
    "First run of the crypto function"
   ]
  },
  {
   "cell_type": "code",
   "execution_count": 3,
   "metadata": {},
   "outputs": [
    {
     "name": "stdout",
     "output_type": "stream",
     "text": [
      "29 \n",
      "\n",
      "\n",
      " H 72 0x48\n",
      "['H']\n",
      "[72]\n",
      "[161]\n",
      "['0x48']\n",
      "[72]\n",
      "['0x48']\n",
      "[161]\n",
      "['0xa1']\n",
      "\n",
      " e 101 0x65\n",
      "['H', 'e']\n",
      "[72, 101]\n",
      "[161, 190]\n",
      "['0x48', '0x65']\n",
      "[72, 7272]\n",
      "['0x48', '0x480x1c68']\n",
      "[161, 30590]\n",
      "['0xa1', '0xa10x777e']\n",
      "\n",
      " l 108 0x6c\n",
      "['H', 'e', 'l']\n",
      "[72, 101, 108]\n",
      "[161, 190, 197]\n",
      "['0x48', '0x65', '0x6c']\n",
      "[72, 7272, 785376]\n",
      "['0x48', '0x480x1c68', '0x480x1c680xbfbe0']\n",
      "[161, 30590, 6026230]\n",
      "['0xa1', '0xa10x777e', '0xa10x777e0x5bf3f6']\n",
      "\n",
      " l 108 0x6c\n",
      "['H', 'e', 'l', 'l']\n",
      "[72, 101, 108, 108]\n",
      "[161, 190, 197, 197]\n",
      "['0x48', '0x65', '0x6c', '0x6c']\n",
      "[72, 7272, 785376, 84820608]\n",
      "['0x48', '0x480x1c68', '0x480x1c680xbfbe0', '0x480x1c680xbfbe00x50e4280']\n",
      "[161, 30590, 6026230, 1187167310]\n",
      "['0xa1', '0xa10x777e', '0xa10x777e0x5bf3f6', '0xa10x777e0x5bf3f60x46c2bc4e']\n",
      "\n",
      " o 111 0x6f\n",
      "['H', 'e', 'l', 'l', 'o']\n",
      "[72, 101, 108, 108, 111]\n",
      "[161, 190, 197, 197, 200]\n",
      "['0x48', '0x65', '0x6c', '0x6c', '0x6f']\n",
      "[72, 7272, 785376, 84820608, 9415087488]\n",
      "['0x48', '0x480x1c68', '0x480x1c680xbfbe0', '0x480x1c680xbfbe00x50e4280', '0x480x1c680xbfbe00x50e42800x2312ed580']\n",
      "[161, 30590, 6026230, 1187167310, 237433462000]\n",
      "['0xa1', '0xa10x777e', '0xa10x777e0x5bf3f6', '0xa10x777e0x5bf3f60x46c2bc4e', '0xa10x777e0x5bf3f60x46c2bc4e0x3748231cf0']\n",
      "\n",
      "   32 0x20\n",
      "['H', 'e', 'l', 'l', 'o', ' ']\n",
      "[72, 101, 108, 108, 111, 32]\n",
      "[161, 190, 197, 197, 200, 121]\n",
      "['0x48', '0x65', '0x6c', '0x6c', '0x6f', '0x20']\n",
      "[72, 7272, 785376, 84820608, 9415087488, 301282799616]\n",
      "['0x48', '0x480x1c68', '0x480x1c680xbfbe0', '0x480x1c680xbfbe00x50e4280', '0x480x1c680xbfbe00x50e42800x2312ed580', '0x480x1c680xbfbe00x50e42800x2312ed5800x4625dab000']\n",
      "[161, 30590, 6026230, 1187167310, 237433462000, 28729448902000]\n",
      "['0xa1', '0xa10x777e', '0xa10x777e0x5bf3f6', '0xa10x777e0x5bf3f60x46c2bc4e', '0xa10x777e0x5bf3f60x46c2bc4e0x3748231cf0', '0xa10x777e0x5bf3f60x46c2bc4e0x3748231cf00x1a211898ad70']\n",
      "\n",
      " W 87 0x57\n",
      "['H', 'e', 'l', 'l', 'o', ' ', 'W']\n",
      "[72, 101, 108, 108, 111, 32, 87]\n",
      "[161, 190, 197, 197, 200, 121, 176]\n",
      "['0x48', '0x65', '0x6c', '0x6c', '0x6f', '0x20', '0x57']\n",
      "[72, 7272, 785376, 84820608, 9415087488, 301282799616, 26211603566592]\n",
      "['0x48', '0x480x1c68', '0x480x1c680xbfbe0', '0x480x1c680xbfbe00x50e4280', '0x480x1c680xbfbe00x50e42800x2312ed580', '0x480x1c680xbfbe00x50e42800x2312ed5800x4625dab000', '0x480x1c680xbfbe00x50e42800x2312ed5800x4625dab0000x17d6dd51d000']\n",
      "[161, 30590, 6026230, 1187167310, 237433462000, 28729448902000, 5056383006752000]\n",
      "['0xa1', '0xa10x777e', '0xa10x777e0x5bf3f6', '0xa10x777e0x5bf3f60x46c2bc4e', '0xa10x777e0x5bf3f60x46c2bc4e0x3748231cf0', '0xa10x777e0x5bf3f60x46c2bc4e0x3748231cf00x1a211898ad70', '0xa10x777e0x5bf3f60x46c2bc4e0x3748231cf00x1a211898ad700x11f6c0e8f73d00']\n",
      "\n",
      " o 111 0x6f\n",
      "['H', 'e', 'l', 'l', 'o', ' ', 'W', 'o']\n",
      "[72, 101, 108, 108, 111, 32, 87, 111]\n",
      "[161, 190, 197, 197, 200, 121, 176, 200]\n",
      "['0x48', '0x65', '0x6c', '0x6c', '0x6f', '0x20', '0x57', '0x6f']\n",
      "[72, 7272, 785376, 84820608, 9415087488, 301282799616, 26211603566592, 2909487995891712]\n",
      "['0x48', '0x480x1c68', '0x480x1c680xbfbe0', '0x480x1c680xbfbe00x50e4280', '0x480x1c680xbfbe00x50e42800x2312ed580', '0x480x1c680xbfbe00x50e42800x2312ed5800x4625dab000', '0x480x1c680xbfbe00x50e42800x2312ed5800x4625dab0000x17d6dd51d000', '0x480x1c680xbfbe00x50e42800x2312ed5800x4625dab0000x17d6dd51d0000xa5629f6793000']\n",
      "[161, 30590, 6026230, 1187167310, 237433462000, 28729448902000, 5056383006752000, 1011276601350400000]\n",
      "['0xa1', '0xa10x777e', '0xa10x777e0x5bf3f6', '0xa10x777e0x5bf3f60x46c2bc4e', '0xa10x777e0x5bf3f60x46c2bc4e0x3748231cf0', '0xa10x777e0x5bf3f60x46c2bc4e0x3748231cf00x1a211898ad70', '0xa10x777e0x5bf3f60x46c2bc4e0x3748231cf00x1a211898ad700x11f6c0e8f73d00', '0xa10x777e0x5bf3f60x46c2bc4e0x3748231cf00x1a211898ad700x11f6c0e8f73d000xe08c6b60127a800']\n",
      "\n",
      " r 114 0x72\n",
      "['H', 'e', 'l', 'l', 'o', ' ', 'W', 'o', 'r']\n",
      "[72, 101, 108, 108, 111, 32, 87, 111, 114]\n",
      "[161, 190, 197, 197, 200, 121, 176, 200, 203]\n",
      "['0x48', '0x65', '0x6c', '0x6c', '0x6f', '0x20', '0x57', '0x6f', '0x72']\n",
      "[72, 7272, 785376, 84820608, 9415087488, 301282799616, 26211603566592, 2909487995891712, 331681631531655168]\n",
      "['0x48', '0x480x1c68', '0x480x1c680xbfbe0', '0x480x1c680xbfbe00x50e4280', '0x480x1c680xbfbe00x50e42800x2312ed580', '0x480x1c680xbfbe00x50e42800x2312ed5800x4625dab000', '0x480x1c680xbfbe00x50e42800x2312ed5800x4625dab0000x17d6dd51d000', '0x480x1c680xbfbe00x50e42800x2312ed5800x4625dab0000x17d6dd51d0000xa5629f6793000', '0x480x1c680xbfbe00x50e42800x2312ed5800x4625dab0000x17d6dd51d0000xa5629f67930000x49a5eafc1f76000']\n",
      "[161, 30590, 6026230, 1187167310, 237433462000, 28729448902000, 5056383006752000, 1011276601350400000, 205289150074131200000]\n",
      "['0xa1', '0xa10x777e', '0xa10x777e0x5bf3f6', '0xa10x777e0x5bf3f60x46c2bc4e', '0xa10x777e0x5bf3f60x46c2bc4e0x3748231cf0', '0xa10x777e0x5bf3f60x46c2bc4e0x3748231cf00x1a211898ad70', '0xa10x777e0x5bf3f60x46c2bc4e0x3748231cf00x1a211898ad700x11f6c0e8f73d00', '0xa10x777e0x5bf3f60x46c2bc4e0x3748231cf00x1a211898ad700x11f6c0e8f73d000xe08c6b60127a800', '0xa10x777e0x5bf3f60x46c2bc4e0x3748231cf00x1a211898ad700x11f6c0e8f73d000xe08c6b60127a8000xb20f59252ea723800']\n",
      "\n",
      " l 108 0x6c\n",
      "['H', 'e', 'l', 'l', 'o', ' ', 'W', 'o', 'r', 'l']\n",
      "[72, 101, 108, 108, 111, 32, 87, 111, 114, 108]\n",
      "[161, 190, 197, 197, 200, 121, 176, 200, 203, 197]\n",
      "['0x48', '0x65', '0x6c', '0x6c', '0x6f', '0x20', '0x57', '0x6f', '0x72', '0x6c']\n",
      "[72, 7272, 785376, 84820608, 9415087488, 301282799616, 26211603566592, 2909487995891712, 331681631531655168, 35821616205418758144]\n",
      "['0x48', '0x480x1c68', '0x480x1c680xbfbe0', '0x480x1c680xbfbe00x50e4280', '0x480x1c680xbfbe00x50e42800x2312ed580', '0x480x1c680xbfbe00x50e42800x2312ed5800x4625dab000', '0x480x1c680xbfbe00x50e42800x2312ed5800x4625dab0000x17d6dd51d000', '0x480x1c680xbfbe00x50e42800x2312ed5800x4625dab0000x17d6dd51d0000xa5629f6793000', '0x480x1c680xbfbe00x50e42800x2312ed5800x4625dab0000x17d6dd51d0000xa5629f67930000x49a5eafc1f76000', '0x480x1c680xbfbe00x50e42800x2312ed5800x4625dab0000x17d6dd51d0000xa5629f67930000x49a5eafc1f760000x1f11ff225d45c8000']\n",
      "[161, 30590, 6026230, 1187167310, 237433462000, 28729448902000, 5056383006752000, 1011276601350400000, 205289150074131200000, 40441962564603846400000]\n",
      "['0xa1', '0xa10x777e', '0xa10x777e0x5bf3f6', '0xa10x777e0x5bf3f60x46c2bc4e', '0xa10x777e0x5bf3f60x46c2bc4e0x3748231cf0', '0xa10x777e0x5bf3f60x46c2bc4e0x3748231cf00x1a211898ad70', '0xa10x777e0x5bf3f60x46c2bc4e0x3748231cf00x1a211898ad700x11f6c0e8f73d00', '0xa10x777e0x5bf3f60x46c2bc4e0x3748231cf00x1a211898ad700x11f6c0e8f73d000xe08c6b60127a800', '0xa10x777e0x5bf3f60x46c2bc4e0x3748231cf00x1a211898ad700x11f6c0e8f73d000xe08c6b60127a8000xb20f59252ea723800', '0xa10x777e0x5bf3f60x46c2bc4e0x3748231cf00x1a211898ad700x11f6c0e8f73d000xe08c6b60127a8000xb20f59252ea7238000x8905cf999ce69e51800']\n",
      "\n",
      " d 100 0x64\n",
      "['H', 'e', 'l', 'l', 'o', ' ', 'W', 'o', 'r', 'l', 'd']\n",
      "[72, 101, 108, 108, 111, 32, 87, 111, 114, 108, 100]\n",
      "[161, 190, 197, 197, 200, 121, 176, 200, 203, 197, 189]\n",
      "['0x48', '0x65', '0x6c', '0x6c', '0x6f', '0x20', '0x57', '0x6f', '0x72', '0x6c', '0x64']\n",
      "[72, 7272, 785376, 84820608, 9415087488, 301282799616, 26211603566592, 2909487995891712, 331681631531655168, 35821616205418758144, 3582161620541875814400]\n",
      "['0x48', '0x480x1c68', '0x480x1c680xbfbe0', '0x480x1c680xbfbe00x50e4280', '0x480x1c680xbfbe00x50e42800x2312ed580', '0x480x1c680xbfbe00x50e42800x2312ed5800x4625dab000', '0x480x1c680xbfbe00x50e42800x2312ed5800x4625dab0000x17d6dd51d000', '0x480x1c680xbfbe00x50e42800x2312ed5800x4625dab0000x17d6dd51d0000xa5629f6793000', '0x480x1c680xbfbe00x50e42800x2312ed5800x4625dab0000x17d6dd51d0000xa5629f67930000x49a5eafc1f76000', '0x480x1c680xbfbe00x50e42800x2312ed5800x4625dab0000x17d6dd51d0000xa5629f67930000x49a5eafc1f760000x1f11ff225d45c8000', '0x480x1c680xbfbe00x50e42800x2312ed5800x4625dab0000x17d6dd51d0000xa5629f67930000x49a5eafc1f760000x1f11ff225d45c80000xc2307a96c6f4220000']\n",
      "[161, 30590, 6026230, 1187167310, 237433462000, 28729448902000, 5056383006752000, 1011276601350400000, 205289150074131200000, 40441962564603846400000, 7643530924710126969600000]\n",
      "['0xa1', '0xa10x777e', '0xa10x777e0x5bf3f6', '0xa10x777e0x5bf3f60x46c2bc4e', '0xa10x777e0x5bf3f60x46c2bc4e0x3748231cf0', '0xa10x777e0x5bf3f60x46c2bc4e0x3748231cf00x1a211898ad70', '0xa10x777e0x5bf3f60x46c2bc4e0x3748231cf00x1a211898ad700x11f6c0e8f73d00', '0xa10x777e0x5bf3f60x46c2bc4e0x3748231cf00x1a211898ad700x11f6c0e8f73d000xe08c6b60127a800', '0xa10x777e0x5bf3f60x46c2bc4e0x3748231cf00x1a211898ad700x11f6c0e8f73d000xe08c6b60127a8000xb20f59252ea723800', '0xa10x777e0x5bf3f60x46c2bc4e0x3748231cf00x1a211898ad700x11f6c0e8f73d000xe08c6b60127a8000xb20f59252ea7238000x8905cf999ce69e51800', '0xa10x777e0x5bf3f60x46c2bc4e0x3748231cf00x1a211898ad700x11f6c0e8f73d000xe08c6b60127a8000xb20f59252ea7238000x8905cf999ce69e518000x65294a4468d642e22b800']\n",
      "Key is:  3582161620541875814400\n",
      "Hex Key is:  0xc2307a96c6f4220000\n",
      "HexKey is:  0x480x1c680xbfbe00x50e42800x2312ed5800x4625dab0000x17d6dd51d0000xa5629f67930000x49a5eafc1f760000x1f11ff225d45c80000xc2307a96c6f4220000\n",
      "Hex_Key is:  0xa10x777e0x5bf3f60x46c2bc4e0x3748231cf00x1a211898ad700x11f6c0e8f73d000xe08c6b60127a8000xb20f59252ea7238000x8905cf999ce69e518000x65294a4468d642e22b800\n"
     ]
    }
   ],
   "source": [
    "import pandas as pd\n",
    "import os\n",
    "import numpy as np\n",
    "import sqlite3\n",
    "import sqlalchemy\n",
    "import random \n",
    "\n",
    "#defining a function named crypto \n",
    "def crypto(): \n",
    "    #having user enter a plaintext message\n",
    "    Plain_text= input(\"Enter a message to convert: \\n\")\n",
    "\n",
    "    #shouldnt use this for encryption geek for geeks says because it will give the same random number each time but it may be helpful for our key\n",
    "    #random.seed(7)\n",
    "\n",
    "    size= len(Plain_text)\n",
    "\n",
    "    #setting K as a random int\n",
    "    k= (random.randint(1, 999999999999)) % 100 +1\n",
    "    print(k, '\\n')\n",
    "\n",
    "    #setting list\n",
    "    abcs=[]\n",
    "    avalue=[]\n",
    "    hvalue=[]\n",
    "    keys= []\n",
    "    hexkey= []\n",
    "    ravalue= []\n",
    "    hex_key=[]\n",
    "    rakey=[]\n",
    "    rahvalue= []\n",
    "\n",
    "    count= 0 \n",
    "\n",
    "    if (k % 2 == 0 or k % 3 == 0 or k % 5 == 0 or k % 7 == 0):\n",
    "        k= random.randint(1, 999999999999) % 100 + 1\n",
    "    for i in Plain_text:\n",
    "        print(\"\\n\", i, ord(i), hex(ord(i)))\n",
    "        #characters added to a list\n",
    "        abcs.append(i)\n",
    "        #ascii value added to a lis\n",
    "        avalue.append(ord(i))\n",
    "        #acii value plus (size^size-1)%128\n",
    "        ravalue.append(ord(i)+ pow(size,size-1,128))\n",
    "        #hexi value of ascii value\n",
    "        hvalue.append(hex(ord(i)))\n",
    "        #hexi value of ascii value plus (size ^ size-1)%128\n",
    "        rahvalue.append(hex(ord(i)+ pow(size,size-1,128)))\n",
    "        \n",
    "        if(count==0):\n",
    "            #adding the first ascii value to a list of keys \n",
    "            keys.append(avalue[count])\n",
    "            #adding the first hex value of the ascii value to  a list of keys\n",
    "            hexkey.append(hex(avalue[count]))\n",
    "            #adding the first ascii value plus ... to a list of keys\n",
    "            rakey.append(ravalue[count])\n",
    "            #adding the first hex value of the ascii value plus ... to a list of keys\n",
    "            hex_key.append(hex(ravalue[count]))\n",
    "        else:\n",
    "            #adding a key to the list by multiplying the current ascii value by the previous key cell value\n",
    "            keys.append(avalue[count]* keys[count- 1])\n",
    "            #adding a hex key to the list by concating the previous key value to the hex value of \n",
    "            #the current asciii value of the character times the previous ascii key cell\n",
    "            hexkey.append(hexkey[count- 1]+ hex(avalue[count]* keys[count- 1]))\n",
    "            #adding a key to the list by multiplying the current ascii value plus... by the previous rakey cell value \n",
    "            rakey.append(ravalue[count]* rakey[count-1])\n",
    "            #adding a hex key to the list by concating the previous key value to the hex value of \n",
    "            #the current ravalue of the character times the previous rakey cell\n",
    "            hex_key.append(hex_key[count- 1]+ hex(ravalue[count]* rakey[count- 1]))\n",
    "        print(abcs)\n",
    "        print(avalue)\n",
    "        print(ravalue)\n",
    "        print(hvalue)\n",
    "        print(keys)\n",
    "        print(hexkey)\n",
    "        print(rakey)\n",
    "        print(hex_key)\n",
    "    \n",
    "    \n",
    "        #incrimenting count \n",
    "        count= count +1\n",
    "    print(\"Key is: \", keys[size-1])\n",
    "    print(\"Hex Key is: \", hex(keys[size-1]))\n",
    "    print(\"HexKey is: \", hexkey[size-1])\n",
    "    print(\"Hex_Key is: \", hex_key[size-1])\n",
    "    return [hex_key, size]\n",
    "#First run of the program using Hello \n",
    "\n",
    "\n",
    "hex_key, size= crypto()\n",
    "check1= hex_key[size-1]\n"
   ]
  },
  {
   "cell_type": "markdown",
   "metadata": {},
   "source": [
    "A second run of the program using the text Hello World"
   ]
  },
  {
   "cell_type": "code",
   "execution_count": 4,
   "metadata": {},
   "outputs": [
    {
     "name": "stdout",
     "output_type": "stream",
     "text": [
      "77 \n",
      "\n",
      "\n",
      " H 72 0x48\n",
      "['H']\n",
      "[72]\n",
      "[161]\n",
      "['0x48']\n",
      "[72]\n",
      "['0x48']\n",
      "[161]\n",
      "['0xa1']\n",
      "\n",
      " e 101 0x65\n",
      "['H', 'e']\n",
      "[72, 101]\n",
      "[161, 190]\n",
      "['0x48', '0x65']\n",
      "[72, 7272]\n",
      "['0x48', '0x480x1c68']\n",
      "[161, 30590]\n",
      "['0xa1', '0xa10x777e']\n",
      "\n",
      " l 108 0x6c\n",
      "['H', 'e', 'l']\n",
      "[72, 101, 108]\n",
      "[161, 190, 197]\n",
      "['0x48', '0x65', '0x6c']\n",
      "[72, 7272, 785376]\n",
      "['0x48', '0x480x1c68', '0x480x1c680xbfbe0']\n",
      "[161, 30590, 6026230]\n",
      "['0xa1', '0xa10x777e', '0xa10x777e0x5bf3f6']\n",
      "\n",
      " l 108 0x6c\n",
      "['H', 'e', 'l', 'l']\n",
      "[72, 101, 108, 108]\n",
      "[161, 190, 197, 197]\n",
      "['0x48', '0x65', '0x6c', '0x6c']\n",
      "[72, 7272, 785376, 84820608]\n",
      "['0x48', '0x480x1c68', '0x480x1c680xbfbe0', '0x480x1c680xbfbe00x50e4280']\n",
      "[161, 30590, 6026230, 1187167310]\n",
      "['0xa1', '0xa10x777e', '0xa10x777e0x5bf3f6', '0xa10x777e0x5bf3f60x46c2bc4e']\n",
      "\n",
      " o 111 0x6f\n",
      "['H', 'e', 'l', 'l', 'o']\n",
      "[72, 101, 108, 108, 111]\n",
      "[161, 190, 197, 197, 200]\n",
      "['0x48', '0x65', '0x6c', '0x6c', '0x6f']\n",
      "[72, 7272, 785376, 84820608, 9415087488]\n",
      "['0x48', '0x480x1c68', '0x480x1c680xbfbe0', '0x480x1c680xbfbe00x50e4280', '0x480x1c680xbfbe00x50e42800x2312ed580']\n",
      "[161, 30590, 6026230, 1187167310, 237433462000]\n",
      "['0xa1', '0xa10x777e', '0xa10x777e0x5bf3f6', '0xa10x777e0x5bf3f60x46c2bc4e', '0xa10x777e0x5bf3f60x46c2bc4e0x3748231cf0']\n",
      "\n",
      "   32 0x20\n",
      "['H', 'e', 'l', 'l', 'o', ' ']\n",
      "[72, 101, 108, 108, 111, 32]\n",
      "[161, 190, 197, 197, 200, 121]\n",
      "['0x48', '0x65', '0x6c', '0x6c', '0x6f', '0x20']\n",
      "[72, 7272, 785376, 84820608, 9415087488, 301282799616]\n",
      "['0x48', '0x480x1c68', '0x480x1c680xbfbe0', '0x480x1c680xbfbe00x50e4280', '0x480x1c680xbfbe00x50e42800x2312ed580', '0x480x1c680xbfbe00x50e42800x2312ed5800x4625dab000']\n",
      "[161, 30590, 6026230, 1187167310, 237433462000, 28729448902000]\n",
      "['0xa1', '0xa10x777e', '0xa10x777e0x5bf3f6', '0xa10x777e0x5bf3f60x46c2bc4e', '0xa10x777e0x5bf3f60x46c2bc4e0x3748231cf0', '0xa10x777e0x5bf3f60x46c2bc4e0x3748231cf00x1a211898ad70']\n",
      "\n",
      " W 87 0x57\n",
      "['H', 'e', 'l', 'l', 'o', ' ', 'W']\n",
      "[72, 101, 108, 108, 111, 32, 87]\n",
      "[161, 190, 197, 197, 200, 121, 176]\n",
      "['0x48', '0x65', '0x6c', '0x6c', '0x6f', '0x20', '0x57']\n",
      "[72, 7272, 785376, 84820608, 9415087488, 301282799616, 26211603566592]\n",
      "['0x48', '0x480x1c68', '0x480x1c680xbfbe0', '0x480x1c680xbfbe00x50e4280', '0x480x1c680xbfbe00x50e42800x2312ed580', '0x480x1c680xbfbe00x50e42800x2312ed5800x4625dab000', '0x480x1c680xbfbe00x50e42800x2312ed5800x4625dab0000x17d6dd51d000']\n",
      "[161, 30590, 6026230, 1187167310, 237433462000, 28729448902000, 5056383006752000]\n",
      "['0xa1', '0xa10x777e', '0xa10x777e0x5bf3f6', '0xa10x777e0x5bf3f60x46c2bc4e', '0xa10x777e0x5bf3f60x46c2bc4e0x3748231cf0', '0xa10x777e0x5bf3f60x46c2bc4e0x3748231cf00x1a211898ad70', '0xa10x777e0x5bf3f60x46c2bc4e0x3748231cf00x1a211898ad700x11f6c0e8f73d00']\n",
      "\n",
      " o 111 0x6f\n",
      "['H', 'e', 'l', 'l', 'o', ' ', 'W', 'o']\n",
      "[72, 101, 108, 108, 111, 32, 87, 111]\n",
      "[161, 190, 197, 197, 200, 121, 176, 200]\n",
      "['0x48', '0x65', '0x6c', '0x6c', '0x6f', '0x20', '0x57', '0x6f']\n",
      "[72, 7272, 785376, 84820608, 9415087488, 301282799616, 26211603566592, 2909487995891712]\n",
      "['0x48', '0x480x1c68', '0x480x1c680xbfbe0', '0x480x1c680xbfbe00x50e4280', '0x480x1c680xbfbe00x50e42800x2312ed580', '0x480x1c680xbfbe00x50e42800x2312ed5800x4625dab000', '0x480x1c680xbfbe00x50e42800x2312ed5800x4625dab0000x17d6dd51d000', '0x480x1c680xbfbe00x50e42800x2312ed5800x4625dab0000x17d6dd51d0000xa5629f6793000']\n",
      "[161, 30590, 6026230, 1187167310, 237433462000, 28729448902000, 5056383006752000, 1011276601350400000]\n",
      "['0xa1', '0xa10x777e', '0xa10x777e0x5bf3f6', '0xa10x777e0x5bf3f60x46c2bc4e', '0xa10x777e0x5bf3f60x46c2bc4e0x3748231cf0', '0xa10x777e0x5bf3f60x46c2bc4e0x3748231cf00x1a211898ad70', '0xa10x777e0x5bf3f60x46c2bc4e0x3748231cf00x1a211898ad700x11f6c0e8f73d00', '0xa10x777e0x5bf3f60x46c2bc4e0x3748231cf00x1a211898ad700x11f6c0e8f73d000xe08c6b60127a800']\n",
      "\n",
      " r 114 0x72\n",
      "['H', 'e', 'l', 'l', 'o', ' ', 'W', 'o', 'r']\n",
      "[72, 101, 108, 108, 111, 32, 87, 111, 114]\n",
      "[161, 190, 197, 197, 200, 121, 176, 200, 203]\n",
      "['0x48', '0x65', '0x6c', '0x6c', '0x6f', '0x20', '0x57', '0x6f', '0x72']\n",
      "[72, 7272, 785376, 84820608, 9415087488, 301282799616, 26211603566592, 2909487995891712, 331681631531655168]\n",
      "['0x48', '0x480x1c68', '0x480x1c680xbfbe0', '0x480x1c680xbfbe00x50e4280', '0x480x1c680xbfbe00x50e42800x2312ed580', '0x480x1c680xbfbe00x50e42800x2312ed5800x4625dab000', '0x480x1c680xbfbe00x50e42800x2312ed5800x4625dab0000x17d6dd51d000', '0x480x1c680xbfbe00x50e42800x2312ed5800x4625dab0000x17d6dd51d0000xa5629f6793000', '0x480x1c680xbfbe00x50e42800x2312ed5800x4625dab0000x17d6dd51d0000xa5629f67930000x49a5eafc1f76000']\n",
      "[161, 30590, 6026230, 1187167310, 237433462000, 28729448902000, 5056383006752000, 1011276601350400000, 205289150074131200000]\n",
      "['0xa1', '0xa10x777e', '0xa10x777e0x5bf3f6', '0xa10x777e0x5bf3f60x46c2bc4e', '0xa10x777e0x5bf3f60x46c2bc4e0x3748231cf0', '0xa10x777e0x5bf3f60x46c2bc4e0x3748231cf00x1a211898ad70', '0xa10x777e0x5bf3f60x46c2bc4e0x3748231cf00x1a211898ad700x11f6c0e8f73d00', '0xa10x777e0x5bf3f60x46c2bc4e0x3748231cf00x1a211898ad700x11f6c0e8f73d000xe08c6b60127a800', '0xa10x777e0x5bf3f60x46c2bc4e0x3748231cf00x1a211898ad700x11f6c0e8f73d000xe08c6b60127a8000xb20f59252ea723800']\n",
      "\n",
      " l 108 0x6c\n",
      "['H', 'e', 'l', 'l', 'o', ' ', 'W', 'o', 'r', 'l']\n",
      "[72, 101, 108, 108, 111, 32, 87, 111, 114, 108]\n",
      "[161, 190, 197, 197, 200, 121, 176, 200, 203, 197]\n",
      "['0x48', '0x65', '0x6c', '0x6c', '0x6f', '0x20', '0x57', '0x6f', '0x72', '0x6c']\n",
      "[72, 7272, 785376, 84820608, 9415087488, 301282799616, 26211603566592, 2909487995891712, 331681631531655168, 35821616205418758144]\n",
      "['0x48', '0x480x1c68', '0x480x1c680xbfbe0', '0x480x1c680xbfbe00x50e4280', '0x480x1c680xbfbe00x50e42800x2312ed580', '0x480x1c680xbfbe00x50e42800x2312ed5800x4625dab000', '0x480x1c680xbfbe00x50e42800x2312ed5800x4625dab0000x17d6dd51d000', '0x480x1c680xbfbe00x50e42800x2312ed5800x4625dab0000x17d6dd51d0000xa5629f6793000', '0x480x1c680xbfbe00x50e42800x2312ed5800x4625dab0000x17d6dd51d0000xa5629f67930000x49a5eafc1f76000', '0x480x1c680xbfbe00x50e42800x2312ed5800x4625dab0000x17d6dd51d0000xa5629f67930000x49a5eafc1f760000x1f11ff225d45c8000']\n",
      "[161, 30590, 6026230, 1187167310, 237433462000, 28729448902000, 5056383006752000, 1011276601350400000, 205289150074131200000, 40441962564603846400000]\n",
      "['0xa1', '0xa10x777e', '0xa10x777e0x5bf3f6', '0xa10x777e0x5bf3f60x46c2bc4e', '0xa10x777e0x5bf3f60x46c2bc4e0x3748231cf0', '0xa10x777e0x5bf3f60x46c2bc4e0x3748231cf00x1a211898ad70', '0xa10x777e0x5bf3f60x46c2bc4e0x3748231cf00x1a211898ad700x11f6c0e8f73d00', '0xa10x777e0x5bf3f60x46c2bc4e0x3748231cf00x1a211898ad700x11f6c0e8f73d000xe08c6b60127a800', '0xa10x777e0x5bf3f60x46c2bc4e0x3748231cf00x1a211898ad700x11f6c0e8f73d000xe08c6b60127a8000xb20f59252ea723800', '0xa10x777e0x5bf3f60x46c2bc4e0x3748231cf00x1a211898ad700x11f6c0e8f73d000xe08c6b60127a8000xb20f59252ea7238000x8905cf999ce69e51800']\n",
      "\n",
      " d 100 0x64\n",
      "['H', 'e', 'l', 'l', 'o', ' ', 'W', 'o', 'r', 'l', 'd']\n",
      "[72, 101, 108, 108, 111, 32, 87, 111, 114, 108, 100]\n",
      "[161, 190, 197, 197, 200, 121, 176, 200, 203, 197, 189]\n",
      "['0x48', '0x65', '0x6c', '0x6c', '0x6f', '0x20', '0x57', '0x6f', '0x72', '0x6c', '0x64']\n",
      "[72, 7272, 785376, 84820608, 9415087488, 301282799616, 26211603566592, 2909487995891712, 331681631531655168, 35821616205418758144, 3582161620541875814400]\n",
      "['0x48', '0x480x1c68', '0x480x1c680xbfbe0', '0x480x1c680xbfbe00x50e4280', '0x480x1c680xbfbe00x50e42800x2312ed580', '0x480x1c680xbfbe00x50e42800x2312ed5800x4625dab000', '0x480x1c680xbfbe00x50e42800x2312ed5800x4625dab0000x17d6dd51d000', '0x480x1c680xbfbe00x50e42800x2312ed5800x4625dab0000x17d6dd51d0000xa5629f6793000', '0x480x1c680xbfbe00x50e42800x2312ed5800x4625dab0000x17d6dd51d0000xa5629f67930000x49a5eafc1f76000', '0x480x1c680xbfbe00x50e42800x2312ed5800x4625dab0000x17d6dd51d0000xa5629f67930000x49a5eafc1f760000x1f11ff225d45c8000', '0x480x1c680xbfbe00x50e42800x2312ed5800x4625dab0000x17d6dd51d0000xa5629f67930000x49a5eafc1f760000x1f11ff225d45c80000xc2307a96c6f4220000']\n",
      "[161, 30590, 6026230, 1187167310, 237433462000, 28729448902000, 5056383006752000, 1011276601350400000, 205289150074131200000, 40441962564603846400000, 7643530924710126969600000]\n",
      "['0xa1', '0xa10x777e', '0xa10x777e0x5bf3f6', '0xa10x777e0x5bf3f60x46c2bc4e', '0xa10x777e0x5bf3f60x46c2bc4e0x3748231cf0', '0xa10x777e0x5bf3f60x46c2bc4e0x3748231cf00x1a211898ad70', '0xa10x777e0x5bf3f60x46c2bc4e0x3748231cf00x1a211898ad700x11f6c0e8f73d00', '0xa10x777e0x5bf3f60x46c2bc4e0x3748231cf00x1a211898ad700x11f6c0e8f73d000xe08c6b60127a800', '0xa10x777e0x5bf3f60x46c2bc4e0x3748231cf00x1a211898ad700x11f6c0e8f73d000xe08c6b60127a8000xb20f59252ea723800', '0xa10x777e0x5bf3f60x46c2bc4e0x3748231cf00x1a211898ad700x11f6c0e8f73d000xe08c6b60127a8000xb20f59252ea7238000x8905cf999ce69e51800', '0xa10x777e0x5bf3f60x46c2bc4e0x3748231cf00x1a211898ad700x11f6c0e8f73d000xe08c6b60127a8000xb20f59252ea7238000x8905cf999ce69e518000x65294a4468d642e22b800']\n",
      "Key is:  3582161620541875814400\n",
      "Hex Key is:  0xc2307a96c6f4220000\n",
      "HexKey is:  0x480x1c680xbfbe00x50e42800x2312ed5800x4625dab0000x17d6dd51d0000xa5629f67930000x49a5eafc1f760000x1f11ff225d45c80000xc2307a96c6f4220000\n",
      "Hex_Key is:  0xa10x777e0x5bf3f60x46c2bc4e0x3748231cf00x1a211898ad700x11f6c0e8f73d000xe08c6b60127a8000xb20f59252ea7238000x8905cf999ce69e518000x65294a4468d642e22b800\n"
     ]
    }
   ],
   "source": [
    "hex_key, size= crypto()\n",
    "check2= hex_key[size-1]"
   ]
  },
  {
   "cell_type": "markdown",
   "metadata": {},
   "source": [
    "Check is hash 1 and hash 2 are the same"
   ]
  },
  {
   "cell_type": "code",
   "execution_count": 5,
   "metadata": {},
   "outputs": [
    {
     "name": "stdout",
     "output_type": "stream",
     "text": [
      "0xa10x777e0x5bf3f60x46c2bc4e0x3748231cf00x1a211898ad700x11f6c0e8f73d000xe08c6b60127a8000xb20f59252ea7238000x8905cf999ce69e518000x65294a4468d642e22b800\n",
      "0xa10x777e0x5bf3f60x46c2bc4e0x3748231cf00x1a211898ad700x11f6c0e8f73d000xe08c6b60127a8000xb20f59252ea7238000x8905cf999ce69e518000x65294a4468d642e22b800\n",
      "Hash matches\n"
     ]
    }
   ],
   "source": [
    "print(check1)\n",
    "print(check2)\n",
    "if(check1==check2):\n",
    "    print(\"Hash matches\")\n",
    "else:\n",
    "    print(\"Hash does not match\")"
   ]
  },
  {
   "cell_type": "markdown",
   "metadata": {},
   "source": [
    "Third run of the program using HELLO WORLD"
   ]
  },
  {
   "cell_type": "code",
   "execution_count": 6,
   "metadata": {},
   "outputs": [
    {
     "name": "stdout",
     "output_type": "stream",
     "text": [
      "72 \n",
      "\n"
     ]
    },
    {
     "ename": "IndexError",
     "evalue": "list index out of range",
     "output_type": "error",
     "traceback": [
      "\u001b[1;31m---------------------------------------------------------------------------\u001b[0m",
      "\u001b[1;31mIndexError\u001b[0m                                Traceback (most recent call last)",
      "\u001b[1;32mc:\\Users\\tysco\\cryptography\\COSC-445-Group-4\\.ipynb_checkpoints\\cryptography-checkpoint.ipynb Cell 9\u001b[0m in \u001b[0;36m<cell line: 1>\u001b[1;34m()\u001b[0m\n\u001b[1;32m----> <a href='vscode-notebook-cell:/c%3A/Users/tysco/cryptography/COSC-445-Group-4/.ipynb_checkpoints/cryptography-checkpoint.ipynb#X12sZmlsZQ%3D%3D?line=0'>1</a>\u001b[0m hex_key, size\u001b[39m=\u001b[39m crypto()\n\u001b[0;32m      <a href='vscode-notebook-cell:/c%3A/Users/tysco/cryptography/COSC-445-Group-4/.ipynb_checkpoints/cryptography-checkpoint.ipynb#X12sZmlsZQ%3D%3D?line=1'>2</a>\u001b[0m check3\u001b[39m=\u001b[39m hex_key[size\u001b[39m-\u001b[39m\u001b[39m1\u001b[39m]\n",
      "\u001b[1;32mc:\\Users\\tysco\\cryptography\\COSC-445-Group-4\\.ipynb_checkpoints\\cryptography-checkpoint.ipynb Cell 9\u001b[0m in \u001b[0;36mcrypto\u001b[1;34m()\u001b[0m\n\u001b[0;32m     <a href='vscode-notebook-cell:/c%3A/Users/tysco/cryptography/COSC-445-Group-4/.ipynb_checkpoints/cryptography-checkpoint.ipynb#X12sZmlsZQ%3D%3D?line=79'>80</a>\u001b[0m     \u001b[39m#incrimenting count \u001b[39;00m\n\u001b[0;32m     <a href='vscode-notebook-cell:/c%3A/Users/tysco/cryptography/COSC-445-Group-4/.ipynb_checkpoints/cryptography-checkpoint.ipynb#X12sZmlsZQ%3D%3D?line=80'>81</a>\u001b[0m     count\u001b[39m=\u001b[39m count \u001b[39m+\u001b[39m\u001b[39m1\u001b[39m\n\u001b[1;32m---> <a href='vscode-notebook-cell:/c%3A/Users/tysco/cryptography/COSC-445-Group-4/.ipynb_checkpoints/cryptography-checkpoint.ipynb#X12sZmlsZQ%3D%3D?line=81'>82</a>\u001b[0m \u001b[39mprint\u001b[39m(\u001b[39m\"\u001b[39m\u001b[39mKey is: \u001b[39m\u001b[39m\"\u001b[39m, keys[size\u001b[39m-\u001b[39;49m\u001b[39m1\u001b[39;49m])\n\u001b[0;32m     <a href='vscode-notebook-cell:/c%3A/Users/tysco/cryptography/COSC-445-Group-4/.ipynb_checkpoints/cryptography-checkpoint.ipynb#X12sZmlsZQ%3D%3D?line=82'>83</a>\u001b[0m \u001b[39mprint\u001b[39m(\u001b[39m\"\u001b[39m\u001b[39mHex Key is: \u001b[39m\u001b[39m\"\u001b[39m, \u001b[39mhex\u001b[39m(keys[size\u001b[39m-\u001b[39m\u001b[39m1\u001b[39m]))\n\u001b[0;32m     <a href='vscode-notebook-cell:/c%3A/Users/tysco/cryptography/COSC-445-Group-4/.ipynb_checkpoints/cryptography-checkpoint.ipynb#X12sZmlsZQ%3D%3D?line=83'>84</a>\u001b[0m \u001b[39mprint\u001b[39m(\u001b[39m\"\u001b[39m\u001b[39mHexKey is: \u001b[39m\u001b[39m\"\u001b[39m, hexkey[size\u001b[39m-\u001b[39m\u001b[39m1\u001b[39m])\n",
      "\u001b[1;31mIndexError\u001b[0m: list index out of range"
     ]
    }
   ],
   "source": [
    "hex_key, size= crypto()\n",
    "check3= hex_key[size-1]"
   ]
  },
  {
   "cell_type": "markdown",
   "metadata": {},
   "source": [
    "Checking if hash 2 and 3 are the same "
   ]
  },
  {
   "cell_type": "code",
   "execution_count": null,
   "metadata": {},
   "outputs": [],
   "source": [
    "print(check2)\n",
    "print(check3)\n",
    "if(check3==check2):\n",
    "    print(\"Hash matches\")\n",
    "else:\n",
    "    print(\"Hash does not match\")"
   ]
  },
  {
   "cell_type": "markdown",
   "metadata": {},
   "source": [
    "Fourth run of the program using Hello WOrld"
   ]
  },
  {
   "cell_type": "code",
   "execution_count": null,
   "metadata": {},
   "outputs": [],
   "source": [
    "hex_key, size= crypto()\n",
    "check4= hex_key[size-1]"
   ]
  },
  {
   "cell_type": "markdown",
   "metadata": {},
   "source": [
    "Check if hash 2 and 4 match "
   ]
  },
  {
   "cell_type": "code",
   "execution_count": null,
   "metadata": {},
   "outputs": [],
   "source": [
    "print(check2)\n",
    "print(check4)\n",
    "if(check4==check2):\n",
    "    print(\"Hash matches\")\n",
    "else:\n",
    "    print(\"Hash does not match\")"
   ]
  },
  {
   "cell_type": "markdown",
   "metadata": {},
   "source": [
    "Fith run of the program using HelloWorld"
   ]
  },
  {
   "cell_type": "code",
   "execution_count": null,
   "metadata": {},
   "outputs": [],
   "source": [
    "hex_key, size= crypto()\n",
    "check5= hex_key[size-1]"
   ]
  },
  {
   "cell_type": "markdown",
   "metadata": {},
   "source": [
    "Checking if hash 4 and 5 match"
   ]
  },
  {
   "cell_type": "code",
   "execution_count": null,
   "metadata": {},
   "outputs": [],
   "source": [
    "print(check4)\n",
    "print(check5)\n",
    "if(check4==check5):\n",
    "    print(\"Hash matches\")\n",
    "else:\n",
    "    print(\"Hash does not match\")"
   ]
  },
  {
   "cell_type": "markdown",
   "metadata": {},
   "source": [
    "Sixth run of the program using Hello World"
   ]
  },
  {
   "cell_type": "code",
   "execution_count": null,
   "metadata": {},
   "outputs": [],
   "source": [
    "hex_key, size= crypto()\n",
    "check6= hex_key[size-1]"
   ]
  },
  {
   "cell_type": "markdown",
   "metadata": {},
   "source": [
    "Checking if hash 6 and hash 2 match \n"
   ]
  },
  {
   "cell_type": "code",
   "execution_count": null,
   "metadata": {},
   "outputs": [],
   "source": [
    "print(check2)\n",
    "print(check6)\n",
    "if(check6==check2):\n",
    "    print(\"Hash matches\")\n",
    "else:\n",
    "    print(\"Hash does not match\")"
   ]
  },
  {
   "cell_type": "markdown",
   "metadata": {},
   "source": [
    "Seventh run of the program using Hello"
   ]
  },
  {
   "cell_type": "code",
   "execution_count": null,
   "metadata": {},
   "outputs": [],
   "source": [
    "hex_key, size= crypto()\n",
    "check7= hex_key[size-1]"
   ]
  },
  {
   "cell_type": "markdown",
   "metadata": {},
   "source": [
    "Checking if Hash 1 and 7 match "
   ]
  },
  {
   "cell_type": "code",
   "execution_count": null,
   "metadata": {},
   "outputs": [],
   "source": [
    "print(check1)\n",
    "print(check7)\n",
    "if(check1==check7):\n",
    "    print(\"Hash matches\")\n",
    "else:\n",
    "    print(\"Hash does not match\")"
   ]
  },
  {
   "cell_type": "markdown",
   "metadata": {},
   "source": [
    "Eigth run of the program using HelloWorld"
   ]
  },
  {
   "cell_type": "code",
   "execution_count": null,
   "metadata": {},
   "outputs": [],
   "source": [
    "hex_key, size= crypto()\n",
    "check8= hex_key[size-1]"
   ]
  },
  {
   "cell_type": "markdown",
   "metadata": {},
   "source": [
    "Checking if hash 5 and 8 match"
   ]
  },
  {
   "cell_type": "code",
   "execution_count": null,
   "metadata": {},
   "outputs": [],
   "source": [
    "print(check5)\n",
    "print(check8)\n",
    "if(check5==check8):\n",
    "    print(\"Hash matches\")\n",
    "else:\n",
    "    print(\"Hash does not match\")"
   ]
  },
  {
   "cell_type": "markdown",
   "metadata": {},
   "source": [
    "All of the hashes"
   ]
  },
  {
   "cell_type": "code",
   "execution_count": null,
   "metadata": {},
   "outputs": [],
   "source": [
    "print(check1)\n",
    "print(check2)\n",
    "print(check3)\n",
    "print(check4)\n",
    "print(check5)\n",
    "print(check6)\n",
    "print(check7)\n",
    "print(check8)"
   ]
  },
  {
   "cell_type": "markdown",
   "metadata": {},
   "source": [
    "The database below is unfinished so please ignore"
   ]
  },
  {
   "cell_type": "code",
   "execution_count": 7,
   "metadata": {},
   "outputs": [
    {
     "name": "stdout",
     "output_type": "stream",
     "text": [
      "metadata table\n",
      "  Username Classification     Exp Grad  \\\n",
      "0    Tyree         Senior  Spring 2023   \n",
      "1  Ashanti         Junior    Fall 2024   \n",
      "2   Adrian         Senior  Spring 2024   \n",
      "\n",
      "                                            Metadata  \\\n",
      "0  My name is Tyree Scott and I want to be a data...   \n",
      "1  My name is Ashanti Boone and I want to be a so...   \n",
      "2                                             rst567   \n",
      "\n",
      "                                                Hash  \n",
      "0  0x910x5bc20x4084680x2d5d19200x209aea0f000x166a...  \n",
      "1  0x680x29080x114f600x74d7c800x32a98fb800xae26de...  \n",
      "2  0xd20x9e520x7f65fc0x618a14f00x4edea6ee100x3f28...  \n"
     ]
    },
    {
     "data": {
      "text/plain": [
       "Username          object\n",
       "Classification    object\n",
       "Exp Grad          object\n",
       "Metadata          object\n",
       "Hash              object\n",
       "dtype: object"
      ]
     },
     "execution_count": 7,
     "metadata": {},
     "output_type": "execute_result"
    }
   ],
   "source": [
    "meta={'Username':['Tyree', 'Ashanti', 'Adrian'],\n",
    "      'Classification':['Senior', 'Junior', 'Senior'],\n",
    "      'Exp Grad': ['Spring 2023', 'Fall 2024', 'Spring 2024'],\n",
    "      'Metadata': ['My name is Tyree Scott and I want to be a database developer.', \n",
    "                   'My name is Ashanti Boone and I want to be a software engineer', 'rst567'], \n",
    "      'Hash':['0x910x5bc20x4084680x2d5d19200x209aea0f000x166a80ea50000xfac7823d5f0000xa1a296f18e3b0000x47fa6737915646000', \n",
    "               '0x680x29080x114f600x74d7c800x32a98fb800xae26de08800x22b1be3bb1800x72ecc625bbf80', \n",
    "               '0xd20x9e520x7f65fc0x618a14f00x4edea6ee100x3f284baca2d0' ]}\n",
    "\n",
    "metadataframe= pd.DataFrame(meta)\n",
    "print(\"metadata table\")\n",
    "print(metadataframe)\n",
    "\n",
    "metadataframe['Username']= metadataframe['Username'].astype(str)\n",
    "\n",
    "metadataframe.dtypes "
   ]
  },
  {
   "cell_type": "code",
   "execution_count": 8,
   "metadata": {},
   "outputs": [
    {
     "name": "stdout",
     "output_type": "stream",
     "text": [
      "31 \n",
      "\n",
      "\n",
      " P 80 0x50\n",
      "\n",
      " a 97 0x61\n",
      "\n",
      " s 115 0x73\n",
      "\n",
      " s 115 0x73\n",
      "\n",
      " w 119 0x77\n",
      "\n",
      " o 111 0x6f\n",
      "\n",
      " r 114 0x72\n",
      "\n",
      " d 100 0x64\n",
      "\n",
      " 1 49 0x31\n",
      "Key is:  757230805472400000\n",
      "Hex Key is:  0xa823967d52a5280\n",
      "HexKey is:  0x500x1e500xd9df00x61df2d00x2d7ebdeb00x13b9f458e500x8c8cecf95fa00x36e70c91695a800xa823967d52a5280\n",
      "Hex_Key is:  0x910x5bc20x4084680x2d5d19200x209aea0f000x166a80ea50000xfac7823d5f0000xa1a296f18e3b0000x47fa6737915646000\n",
      "0x910x5bc20x4084680x2d5d19200x209aea0f000x166a80ea50000xfac7823d5f0000xa1a296f18e3b0000x47fa6737915646000\n"
     ]
    }
   ],
   "source": [
    "def password():\n",
    "    uname= input(\"Enter the username: \\n\")\n",
    "    pword= input(\"Enter the password:  \\n\")\n",
    "\n",
    "    #metadataframe.set_index(\"Hash\", inplace= True)\n",
    "\n",
    "    #tempdf= dataframe.loc[uname]\n",
    "\n",
    "    size2= len(pword)\n",
    "\n",
    "    #setting K as a random int\n",
    "    k= (random.randint(1, 999999999999)) % 100 +1\n",
    "    print(k, '\\n')\n",
    "\n",
    "    #setting list\n",
    "    abcs=[]\n",
    "    avalue=[]\n",
    "    hvalue=[]\n",
    "    keys= []\n",
    "    hexkey= []\n",
    "    ravalue= []\n",
    "    hex_key=[]\n",
    "    rakey=[]\n",
    "    rahvalue= []\n",
    "\n",
    "    count= 0 \n",
    "\n",
    "    if (k % 2 == 0 or k % 3 == 0 or k % 5 == 0 or k % 7 == 0):\n",
    "        k= random.randint(1, 999999999999) % 100 + 1\n",
    "    for i in pword:\n",
    "            print(\"\\n\", i, ord(i), hex(ord(i)))\n",
    "            #characters added to a list\n",
    "            abcs.append(i)\n",
    "            #ascii value added to a lis\n",
    "            avalue.append(ord(i))\n",
    "            #acii value plus (size^size-1)%128\n",
    "            ravalue.append(ord(i)+ pow(size2,size2-1,128))\n",
    "            #hexi value of ascii value\n",
    "            hvalue.append(hex(ord(i)))\n",
    "            #hexi value of ascii value plus (size ^ size-1)%128\n",
    "            rahvalue.append(hex(ord(i)+ pow(size2,size2-1,128)))\n",
    "            \n",
    "            if(count==0):\n",
    "                #adding the first ascii value to a list of keys \n",
    "                keys.append(avalue[count])\n",
    "                #adding the first hex value of the ascii value to  a list of keys\n",
    "                hexkey.append(hex(avalue[count]))\n",
    "                #adding the first ascii value plus ... to a list of keys\n",
    "                rakey.append(ravalue[count])\n",
    "                #adding the first hex value of the ascii value plus ... to a list of keys\n",
    "                hex_key.append(hex(ravalue[count]))\n",
    "            else:\n",
    "                #adding a key to the list by multiplying the current ascii value by the previous key cell value\n",
    "                keys.append(avalue[count]* keys[count- 1])\n",
    "                #adding a hex key to the list by concating the previous key value to the hex value of \n",
    "                #the current asciii value of the character times the previous ascii key cell\n",
    "                hexkey.append(hexkey[count- 1]+ hex(avalue[count]* keys[count- 1]))\n",
    "                #adding a key to the list by multiplying the current ascii value plus... by the previous rakey cell value \n",
    "                rakey.append(ravalue[count]* rakey[count-1])\n",
    "                #adding a hex key to the list by concating the previous key value to the hex value of \n",
    "                #the current ravalue of the character times the previous rakey cell\n",
    "                hex_key.append(hex_key[count- 1]+ hex(ravalue[count]* rakey[count- 1]))\n",
    "        \n",
    "            #incrimenting count \n",
    "            count= count +1\n",
    "    print(\"Key is: \", keys[size2-1])\n",
    "    print(\"Hex Key is: \", hex(keys[size2-1]))\n",
    "    print(\"HexKey is: \", hexkey[size2-1])\n",
    "    print(\"Hex_Key is: \", hex_key[size2-1])\n",
    "    return [hex_key, size2, uname]\n",
    "\n",
    "phex_key, size2, uname= password()\n",
    "hashcheck= phex_key[size2-1]\n",
    "print(hashcheck)"
   ]
  },
  {
   "cell_type": "code",
   "execution_count": 9,
   "metadata": {},
   "outputs": [
    {
     "data": {
      "text/html": [
       "<div>\n",
       "<style scoped>\n",
       "    .dataframe tbody tr th:only-of-type {\n",
       "        vertical-align: middle;\n",
       "    }\n",
       "\n",
       "    .dataframe tbody tr th {\n",
       "        vertical-align: top;\n",
       "    }\n",
       "\n",
       "    .dataframe thead th {\n",
       "        text-align: right;\n",
       "    }\n",
       "</style>\n",
       "<table border=\"1\" class=\"dataframe\">\n",
       "  <thead>\n",
       "    <tr style=\"text-align: right;\">\n",
       "      <th></th>\n",
       "      <th>Username</th>\n",
       "      <th>Classification</th>\n",
       "      <th>Exp Grad</th>\n",
       "      <th>Metadata</th>\n",
       "    </tr>\n",
       "  </thead>\n",
       "  <tbody>\n",
       "    <tr>\n",
       "      <th>0</th>\n",
       "      <td>Tyree</td>\n",
       "      <td>Senior</td>\n",
       "      <td>Spring 2023</td>\n",
       "      <td>My name is Tyree Scott and I want to be a data...</td>\n",
       "    </tr>\n",
       "  </tbody>\n",
       "</table>\n",
       "</div>"
      ],
      "text/plain": [
       "  Username Classification     Exp Grad  \\\n",
       "0    Tyree         Senior  Spring 2023   \n",
       "\n",
       "                                            Metadata  \n",
       "0  My name is Tyree Scott and I want to be a data...  "
      ]
     },
     "metadata": {},
     "output_type": "display_data"
    }
   ],
   "source": [
    "display(metadataframe.loc[(metadataframe['Hash']==hashcheck) & (metadataframe['Username']==uname),\n",
    "                    ['Username','Classification', 'Exp Grad', 'Metadata']])"
   ]
  }
 ],
 "metadata": {
  "kernelspec": {
   "display_name": "Python 3 (ipykernel)",
   "language": "python",
   "name": "python3"
  },
  "language_info": {
   "codemirror_mode": {
    "name": "ipython",
    "version": 3
   },
   "file_extension": ".py",
   "mimetype": "text/x-python",
   "name": "python",
   "nbconvert_exporter": "python",
   "pygments_lexer": "ipython3",
   "version": "3.10.6"
  }
 },
 "nbformat": 4,
 "nbformat_minor": 2
}
